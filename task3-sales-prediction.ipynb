{
 "cells": [
  {
   "cell_type": "markdown",
   "id": "72453cc9",
   "metadata": {
    "papermill": {
     "duration": 0.011138,
     "end_time": "2023-02-23T20:04:33.211464",
     "exception": false,
     "start_time": "2023-02-23T20:04:33.200326",
     "status": "completed"
    },
    "tags": []
   },
   "source": [
    "# **Task 3 - Sales Prediction using Python**\n",
    "*(by Anushka Gupta)*"
   ]
  },
  {
   "cell_type": "markdown",
   "id": "89dbf5f2",
   "metadata": {
    "papermill": {
     "duration": 0.010354,
     "end_time": "2023-02-23T20:04:33.233060",
     "exception": false,
     "start_time": "2023-02-23T20:04:33.222706",
     "status": "completed"
    },
    "tags": []
   },
   "source": [
    "# **Steps :-**\n",
    "1. Loading data\n",
    "2. Exploratory data analysis\n",
    "3. Data pre-processing\n",
    "4. Data vizualization\n",
    "5. Modelling\n",
    "    * by Linear regression\n",
    "    * by Multi Linear regression   "
   ]
  },
  {
   "cell_type": "markdown",
   "id": "7dcf0a2d",
   "metadata": {
    "papermill": {
     "duration": 0.013023,
     "end_time": "2023-02-23T20:04:33.257134",
     "exception": false,
     "start_time": "2023-02-23T20:04:33.244111",
     "status": "completed"
    },
    "tags": []
   },
   "source": [
    "# **1. Loadinng the data**"
   ]
  },
  {
   "cell_type": "code",
   "execution_count": 1,
   "id": "a8fae6c4",
   "metadata": {
    "execution": {
     "iopub.execute_input": "2023-02-23T20:04:33.300375Z",
     "iopub.status.busy": "2023-02-23T20:04:33.298675Z",
     "iopub.status.idle": "2023-02-23T20:04:35.350224Z",
     "shell.execute_reply": "2023-02-23T20:04:35.346990Z"
    },
    "papermill": {
     "duration": 2.07725,
     "end_time": "2023-02-23T20:04:35.353484",
     "exception": false,
     "start_time": "2023-02-23T20:04:33.276234",
     "status": "completed"
    },
    "tags": []
   },
   "outputs": [],
   "source": [
    "# Import required libraries\n",
    "\n",
    "import numpy as np\n",
    "import pandas as pd\n",
    "\n",
    "#data viz\n",
    "import matplotlib.pyplot as plt\n",
    "import seaborn as sns\n",
    "\n",
    "#model\n",
    "from sklearn.model_selection import train_test_split\n",
    "from sklearn.linear_model import LinearRegression"
   ]
  },
  {
   "cell_type": "code",
   "execution_count": 2,
   "id": "fea2c0ec",
   "metadata": {
    "execution": {
     "iopub.execute_input": "2023-02-23T20:04:35.377113Z",
     "iopub.status.busy": "2023-02-23T20:04:35.376728Z",
     "iopub.status.idle": "2023-02-23T20:04:35.404237Z",
     "shell.execute_reply": "2023-02-23T20:04:35.402937Z"
    },
    "papermill": {
     "duration": 0.044125,
     "end_time": "2023-02-23T20:04:35.407346",
     "exception": false,
     "start_time": "2023-02-23T20:04:35.363221",
     "status": "completed"
    },
    "tags": []
   },
   "outputs": [],
   "source": [
    "#Loading the dataset\n",
    "sales =pd.read_csv(\"/kaggle/input/advertisingcsv/Advertising.csv\")"
   ]
  },
  {
   "cell_type": "markdown",
   "id": "9460991a",
   "metadata": {
    "papermill": {
     "duration": 0.01265,
     "end_time": "2023-02-23T20:04:35.433944",
     "exception": false,
     "start_time": "2023-02-23T20:04:35.421294",
     "status": "completed"
    },
    "tags": []
   },
   "source": [
    "# **2. Data Exploaration**"
   ]
  },
  {
   "cell_type": "code",
   "execution_count": 3,
   "id": "3d22d72f",
   "metadata": {
    "execution": {
     "iopub.execute_input": "2023-02-23T20:04:35.458207Z",
     "iopub.status.busy": "2023-02-23T20:04:35.456830Z",
     "iopub.status.idle": "2023-02-23T20:04:35.487095Z",
     "shell.execute_reply": "2023-02-23T20:04:35.485696Z"
    },
    "papermill": {
     "duration": 0.044267,
     "end_time": "2023-02-23T20:04:35.489255",
     "exception": false,
     "start_time": "2023-02-23T20:04:35.444988",
     "status": "completed"
    },
    "tags": []
   },
   "outputs": [
    {
     "data": {
      "text/html": [
       "<div>\n",
       "<style scoped>\n",
       "    .dataframe tbody tr th:only-of-type {\n",
       "        vertical-align: middle;\n",
       "    }\n",
       "\n",
       "    .dataframe tbody tr th {\n",
       "        vertical-align: top;\n",
       "    }\n",
       "\n",
       "    .dataframe thead th {\n",
       "        text-align: right;\n",
       "    }\n",
       "</style>\n",
       "<table border=\"1\" class=\"dataframe\">\n",
       "  <thead>\n",
       "    <tr style=\"text-align: right;\">\n",
       "      <th></th>\n",
       "      <th>Unnamed: 0</th>\n",
       "      <th>TV</th>\n",
       "      <th>Radio</th>\n",
       "      <th>Newspaper</th>\n",
       "      <th>Sales</th>\n",
       "    </tr>\n",
       "  </thead>\n",
       "  <tbody>\n",
       "    <tr>\n",
       "      <th>0</th>\n",
       "      <td>1</td>\n",
       "      <td>230.1</td>\n",
       "      <td>37.8</td>\n",
       "      <td>69.2</td>\n",
       "      <td>22.1</td>\n",
       "    </tr>\n",
       "    <tr>\n",
       "      <th>1</th>\n",
       "      <td>2</td>\n",
       "      <td>44.5</td>\n",
       "      <td>39.3</td>\n",
       "      <td>45.1</td>\n",
       "      <td>10.4</td>\n",
       "    </tr>\n",
       "    <tr>\n",
       "      <th>2</th>\n",
       "      <td>3</td>\n",
       "      <td>17.2</td>\n",
       "      <td>45.9</td>\n",
       "      <td>69.3</td>\n",
       "      <td>9.3</td>\n",
       "    </tr>\n",
       "    <tr>\n",
       "      <th>3</th>\n",
       "      <td>4</td>\n",
       "      <td>151.5</td>\n",
       "      <td>41.3</td>\n",
       "      <td>58.5</td>\n",
       "      <td>18.5</td>\n",
       "    </tr>\n",
       "    <tr>\n",
       "      <th>4</th>\n",
       "      <td>5</td>\n",
       "      <td>180.8</td>\n",
       "      <td>10.8</td>\n",
       "      <td>58.4</td>\n",
       "      <td>12.9</td>\n",
       "    </tr>\n",
       "  </tbody>\n",
       "</table>\n",
       "</div>"
      ],
      "text/plain": [
       "   Unnamed: 0     TV  Radio  Newspaper  Sales\n",
       "0           1  230.1   37.8       69.2   22.1\n",
       "1           2   44.5   39.3       45.1   10.4\n",
       "2           3   17.2   45.9       69.3    9.3\n",
       "3           4  151.5   41.3       58.5   18.5\n",
       "4           5  180.8   10.8       58.4   12.9"
      ]
     },
     "execution_count": 3,
     "metadata": {},
     "output_type": "execute_result"
    }
   ],
   "source": [
    "sales.head()"
   ]
  },
  {
   "cell_type": "code",
   "execution_count": 4,
   "id": "7b8a4a0d",
   "metadata": {
    "execution": {
     "iopub.execute_input": "2023-02-23T20:04:35.515435Z",
     "iopub.status.busy": "2023-02-23T20:04:35.514668Z",
     "iopub.status.idle": "2023-02-23T20:04:35.559163Z",
     "shell.execute_reply": "2023-02-23T20:04:35.558117Z"
    },
    "papermill": {
     "duration": 0.061489,
     "end_time": "2023-02-23T20:04:35.561514",
     "exception": false,
     "start_time": "2023-02-23T20:04:35.500025",
     "status": "completed"
    },
    "tags": []
   },
   "outputs": [
    {
     "data": {
      "text/html": [
       "<div>\n",
       "<style scoped>\n",
       "    .dataframe tbody tr th:only-of-type {\n",
       "        vertical-align: middle;\n",
       "    }\n",
       "\n",
       "    .dataframe tbody tr th {\n",
       "        vertical-align: top;\n",
       "    }\n",
       "\n",
       "    .dataframe thead th {\n",
       "        text-align: right;\n",
       "    }\n",
       "</style>\n",
       "<table border=\"1\" class=\"dataframe\">\n",
       "  <thead>\n",
       "    <tr style=\"text-align: right;\">\n",
       "      <th></th>\n",
       "      <th>Unnamed: 0</th>\n",
       "      <th>TV</th>\n",
       "      <th>Radio</th>\n",
       "      <th>Newspaper</th>\n",
       "      <th>Sales</th>\n",
       "    </tr>\n",
       "  </thead>\n",
       "  <tbody>\n",
       "    <tr>\n",
       "      <th>count</th>\n",
       "      <td>200.000000</td>\n",
       "      <td>200.000000</td>\n",
       "      <td>200.000000</td>\n",
       "      <td>200.000000</td>\n",
       "      <td>200.000000</td>\n",
       "    </tr>\n",
       "    <tr>\n",
       "      <th>mean</th>\n",
       "      <td>100.500000</td>\n",
       "      <td>147.042500</td>\n",
       "      <td>23.264000</td>\n",
       "      <td>30.554000</td>\n",
       "      <td>14.022500</td>\n",
       "    </tr>\n",
       "    <tr>\n",
       "      <th>std</th>\n",
       "      <td>57.879185</td>\n",
       "      <td>85.854236</td>\n",
       "      <td>14.846809</td>\n",
       "      <td>21.778621</td>\n",
       "      <td>5.217457</td>\n",
       "    </tr>\n",
       "    <tr>\n",
       "      <th>min</th>\n",
       "      <td>1.000000</td>\n",
       "      <td>0.700000</td>\n",
       "      <td>0.000000</td>\n",
       "      <td>0.300000</td>\n",
       "      <td>1.600000</td>\n",
       "    </tr>\n",
       "    <tr>\n",
       "      <th>25%</th>\n",
       "      <td>50.750000</td>\n",
       "      <td>74.375000</td>\n",
       "      <td>9.975000</td>\n",
       "      <td>12.750000</td>\n",
       "      <td>10.375000</td>\n",
       "    </tr>\n",
       "    <tr>\n",
       "      <th>50%</th>\n",
       "      <td>100.500000</td>\n",
       "      <td>149.750000</td>\n",
       "      <td>22.900000</td>\n",
       "      <td>25.750000</td>\n",
       "      <td>12.900000</td>\n",
       "    </tr>\n",
       "    <tr>\n",
       "      <th>75%</th>\n",
       "      <td>150.250000</td>\n",
       "      <td>218.825000</td>\n",
       "      <td>36.525000</td>\n",
       "      <td>45.100000</td>\n",
       "      <td>17.400000</td>\n",
       "    </tr>\n",
       "    <tr>\n",
       "      <th>max</th>\n",
       "      <td>200.000000</td>\n",
       "      <td>296.400000</td>\n",
       "      <td>49.600000</td>\n",
       "      <td>114.000000</td>\n",
       "      <td>27.000000</td>\n",
       "    </tr>\n",
       "  </tbody>\n",
       "</table>\n",
       "</div>"
      ],
      "text/plain": [
       "       Unnamed: 0          TV       Radio   Newspaper       Sales\n",
       "count  200.000000  200.000000  200.000000  200.000000  200.000000\n",
       "mean   100.500000  147.042500   23.264000   30.554000   14.022500\n",
       "std     57.879185   85.854236   14.846809   21.778621    5.217457\n",
       "min      1.000000    0.700000    0.000000    0.300000    1.600000\n",
       "25%     50.750000   74.375000    9.975000   12.750000   10.375000\n",
       "50%    100.500000  149.750000   22.900000   25.750000   12.900000\n",
       "75%    150.250000  218.825000   36.525000   45.100000   17.400000\n",
       "max    200.000000  296.400000   49.600000  114.000000   27.000000"
      ]
     },
     "execution_count": 4,
     "metadata": {},
     "output_type": "execute_result"
    }
   ],
   "source": [
    "sales.describe()"
   ]
  },
  {
   "cell_type": "code",
   "execution_count": 5,
   "id": "bda756a3",
   "metadata": {
    "execution": {
     "iopub.execute_input": "2023-02-23T20:04:35.584805Z",
     "iopub.status.busy": "2023-02-23T20:04:35.584390Z",
     "iopub.status.idle": "2023-02-23T20:04:35.606517Z",
     "shell.execute_reply": "2023-02-23T20:04:35.604476Z"
    },
    "papermill": {
     "duration": 0.038659,
     "end_time": "2023-02-23T20:04:35.610440",
     "exception": false,
     "start_time": "2023-02-23T20:04:35.571781",
     "status": "completed"
    },
    "tags": []
   },
   "outputs": [
    {
     "name": "stdout",
     "output_type": "stream",
     "text": [
      "<class 'pandas.core.frame.DataFrame'>\n",
      "RangeIndex: 200 entries, 0 to 199\n",
      "Data columns (total 5 columns):\n",
      " #   Column      Non-Null Count  Dtype  \n",
      "---  ------      --------------  -----  \n",
      " 0   Unnamed: 0  200 non-null    int64  \n",
      " 1   TV          200 non-null    float64\n",
      " 2   Radio       200 non-null    float64\n",
      " 3   Newspaper   200 non-null    float64\n",
      " 4   Sales       200 non-null    float64\n",
      "dtypes: float64(4), int64(1)\n",
      "memory usage: 7.9 KB\n"
     ]
    }
   ],
   "source": [
    "sales.info()"
   ]
  },
  {
   "cell_type": "markdown",
   "id": "3425dd42",
   "metadata": {
    "papermill": {
     "duration": 0.009525,
     "end_time": "2023-02-23T20:04:35.631574",
     "exception": false,
     "start_time": "2023-02-23T20:04:35.622049",
     "status": "completed"
    },
    "tags": []
   },
   "source": [
    "# **3. Data Pre-processing**"
   ]
  },
  {
   "cell_type": "code",
   "execution_count": 6,
   "id": "d6325e06",
   "metadata": {
    "execution": {
     "iopub.execute_input": "2023-02-23T20:04:35.654768Z",
     "iopub.status.busy": "2023-02-23T20:04:35.654212Z",
     "iopub.status.idle": "2023-02-23T20:04:35.667149Z",
     "shell.execute_reply": "2023-02-23T20:04:35.664782Z"
    },
    "papermill": {
     "duration": 0.029269,
     "end_time": "2023-02-23T20:04:35.670626",
     "exception": false,
     "start_time": "2023-02-23T20:04:35.641357",
     "status": "completed"
    },
    "tags": []
   },
   "outputs": [
    {
     "data": {
      "text/plain": [
       "Unnamed: 0    0\n",
       "TV            0\n",
       "Radio         0\n",
       "Newspaper     0\n",
       "Sales         0\n",
       "dtype: int64"
      ]
     },
     "execution_count": 6,
     "metadata": {},
     "output_type": "execute_result"
    }
   ],
   "source": [
    "#checking of missing values\n",
    "sales.isna().sum()"
   ]
  },
  {
   "cell_type": "code",
   "execution_count": 7,
   "id": "ea7da516",
   "metadata": {
    "execution": {
     "iopub.execute_input": "2023-02-23T20:04:35.693608Z",
     "iopub.status.busy": "2023-02-23T20:04:35.693121Z",
     "iopub.status.idle": "2023-02-23T20:04:35.702802Z",
     "shell.execute_reply": "2023-02-23T20:04:35.700937Z"
    },
    "papermill": {
     "duration": 0.025014,
     "end_time": "2023-02-23T20:04:35.706009",
     "exception": false,
     "start_time": "2023-02-23T20:04:35.680995",
     "status": "completed"
    },
    "tags": []
   },
   "outputs": [
    {
     "data": {
      "text/plain": [
       "(200, 5)"
      ]
     },
     "execution_count": 7,
     "metadata": {},
     "output_type": "execute_result"
    }
   ],
   "source": [
    "sales.shape"
   ]
  },
  {
   "cell_type": "markdown",
   "id": "b97258c2",
   "metadata": {
    "papermill": {
     "duration": 0.009656,
     "end_time": "2023-02-23T20:04:35.725802",
     "exception": false,
     "start_time": "2023-02-23T20:04:35.716146",
     "status": "completed"
    },
    "tags": []
   },
   "source": [
    "* **Cleaning**"
   ]
  },
  {
   "cell_type": "code",
   "execution_count": 8,
   "id": "c76b246a",
   "metadata": {
    "execution": {
     "iopub.execute_input": "2023-02-23T20:04:35.747708Z",
     "iopub.status.busy": "2023-02-23T20:04:35.747310Z",
     "iopub.status.idle": "2023-02-23T20:04:35.755477Z",
     "shell.execute_reply": "2023-02-23T20:04:35.753313Z"
    },
    "papermill": {
     "duration": 0.02313,
     "end_time": "2023-02-23T20:04:35.759027",
     "exception": false,
     "start_time": "2023-02-23T20:04:35.735897",
     "status": "completed"
    },
    "tags": []
   },
   "outputs": [],
   "source": [
    "sales= sales.drop(columns=['Unnamed: 0'])"
   ]
  },
  {
   "cell_type": "markdown",
   "id": "48de0521",
   "metadata": {
    "papermill": {
     "duration": 0.011858,
     "end_time": "2023-02-23T20:04:35.782296",
     "exception": false,
     "start_time": "2023-02-23T20:04:35.770438",
     "status": "completed"
    },
    "tags": []
   },
   "source": [
    "* **Transforming**"
   ]
  },
  {
   "cell_type": "code",
   "execution_count": 9,
   "id": "b69c6ee5",
   "metadata": {
    "execution": {
     "iopub.execute_input": "2023-02-23T20:04:35.809154Z",
     "iopub.status.busy": "2023-02-23T20:04:35.808767Z",
     "iopub.status.idle": "2023-02-23T20:04:35.815582Z",
     "shell.execute_reply": "2023-02-23T20:04:35.814441Z"
    },
    "papermill": {
     "duration": 0.023973,
     "end_time": "2023-02-23T20:04:35.818400",
     "exception": false,
     "start_time": "2023-02-23T20:04:35.794427",
     "status": "completed"
    },
    "tags": []
   },
   "outputs": [],
   "source": [
    "sales['TV']=sales['TV'].astype('int')"
   ]
  },
  {
   "cell_type": "code",
   "execution_count": 10,
   "id": "5cc78e31",
   "metadata": {
    "execution": {
     "iopub.execute_input": "2023-02-23T20:04:35.842850Z",
     "iopub.status.busy": "2023-02-23T20:04:35.842401Z",
     "iopub.status.idle": "2023-02-23T20:04:35.851378Z",
     "shell.execute_reply": "2023-02-23T20:04:35.849854Z"
    },
    "papermill": {
     "duration": 0.024037,
     "end_time": "2023-02-23T20:04:35.854238",
     "exception": false,
     "start_time": "2023-02-23T20:04:35.830201",
     "status": "completed"
    },
    "tags": []
   },
   "outputs": [],
   "source": [
    "sales['Newspaper']=sales['Newspaper'].astype('int')"
   ]
  },
  {
   "cell_type": "code",
   "execution_count": 11,
   "id": "6b8321bd",
   "metadata": {
    "execution": {
     "iopub.execute_input": "2023-02-23T20:04:35.877422Z",
     "iopub.status.busy": "2023-02-23T20:04:35.876963Z",
     "iopub.status.idle": "2023-02-23T20:04:35.884566Z",
     "shell.execute_reply": "2023-02-23T20:04:35.883337Z"
    },
    "papermill": {
     "duration": 0.021792,
     "end_time": "2023-02-23T20:04:35.886412",
     "exception": false,
     "start_time": "2023-02-23T20:04:35.864620",
     "status": "completed"
    },
    "tags": []
   },
   "outputs": [],
   "source": [
    "sales['Radio']=sales['Radio'].astype('int')"
   ]
  },
  {
   "cell_type": "code",
   "execution_count": 12,
   "id": "6c8c78df",
   "metadata": {
    "execution": {
     "iopub.execute_input": "2023-02-23T20:04:35.909512Z",
     "iopub.status.busy": "2023-02-23T20:04:35.909119Z",
     "iopub.status.idle": "2023-02-23T20:04:35.920959Z",
     "shell.execute_reply": "2023-02-23T20:04:35.919510Z"
    },
    "papermill": {
     "duration": 0.02682,
     "end_time": "2023-02-23T20:04:35.923537",
     "exception": false,
     "start_time": "2023-02-23T20:04:35.896717",
     "status": "completed"
    },
    "tags": []
   },
   "outputs": [
    {
     "data": {
      "text/html": [
       "<div>\n",
       "<style scoped>\n",
       "    .dataframe tbody tr th:only-of-type {\n",
       "        vertical-align: middle;\n",
       "    }\n",
       "\n",
       "    .dataframe tbody tr th {\n",
       "        vertical-align: top;\n",
       "    }\n",
       "\n",
       "    .dataframe thead th {\n",
       "        text-align: right;\n",
       "    }\n",
       "</style>\n",
       "<table border=\"1\" class=\"dataframe\">\n",
       "  <thead>\n",
       "    <tr style=\"text-align: right;\">\n",
       "      <th></th>\n",
       "      <th>TV</th>\n",
       "      <th>Radio</th>\n",
       "      <th>Newspaper</th>\n",
       "      <th>Sales</th>\n",
       "    </tr>\n",
       "  </thead>\n",
       "  <tbody>\n",
       "    <tr>\n",
       "      <th>0</th>\n",
       "      <td>230</td>\n",
       "      <td>37</td>\n",
       "      <td>69</td>\n",
       "      <td>22.1</td>\n",
       "    </tr>\n",
       "    <tr>\n",
       "      <th>1</th>\n",
       "      <td>44</td>\n",
       "      <td>39</td>\n",
       "      <td>45</td>\n",
       "      <td>10.4</td>\n",
       "    </tr>\n",
       "    <tr>\n",
       "      <th>2</th>\n",
       "      <td>17</td>\n",
       "      <td>45</td>\n",
       "      <td>69</td>\n",
       "      <td>9.3</td>\n",
       "    </tr>\n",
       "    <tr>\n",
       "      <th>3</th>\n",
       "      <td>151</td>\n",
       "      <td>41</td>\n",
       "      <td>58</td>\n",
       "      <td>18.5</td>\n",
       "    </tr>\n",
       "    <tr>\n",
       "      <th>4</th>\n",
       "      <td>180</td>\n",
       "      <td>10</td>\n",
       "      <td>58</td>\n",
       "      <td>12.9</td>\n",
       "    </tr>\n",
       "    <tr>\n",
       "      <th>5</th>\n",
       "      <td>8</td>\n",
       "      <td>48</td>\n",
       "      <td>75</td>\n",
       "      <td>7.2</td>\n",
       "    </tr>\n",
       "    <tr>\n",
       "      <th>6</th>\n",
       "      <td>57</td>\n",
       "      <td>32</td>\n",
       "      <td>23</td>\n",
       "      <td>11.8</td>\n",
       "    </tr>\n",
       "    <tr>\n",
       "      <th>7</th>\n",
       "      <td>120</td>\n",
       "      <td>19</td>\n",
       "      <td>11</td>\n",
       "      <td>13.2</td>\n",
       "    </tr>\n",
       "    <tr>\n",
       "      <th>8</th>\n",
       "      <td>8</td>\n",
       "      <td>2</td>\n",
       "      <td>1</td>\n",
       "      <td>4.8</td>\n",
       "    </tr>\n",
       "    <tr>\n",
       "      <th>9</th>\n",
       "      <td>199</td>\n",
       "      <td>2</td>\n",
       "      <td>21</td>\n",
       "      <td>10.6</td>\n",
       "    </tr>\n",
       "  </tbody>\n",
       "</table>\n",
       "</div>"
      ],
      "text/plain": [
       "    TV  Radio  Newspaper  Sales\n",
       "0  230     37         69   22.1\n",
       "1   44     39         45   10.4\n",
       "2   17     45         69    9.3\n",
       "3  151     41         58   18.5\n",
       "4  180     10         58   12.9\n",
       "5    8     48         75    7.2\n",
       "6   57     32         23   11.8\n",
       "7  120     19         11   13.2\n",
       "8    8      2          1    4.8\n",
       "9  199      2         21   10.6"
      ]
     },
     "execution_count": 12,
     "metadata": {},
     "output_type": "execute_result"
    }
   ],
   "source": [
    "sales.head(10)"
   ]
  },
  {
   "cell_type": "markdown",
   "id": "a4d7e9ae",
   "metadata": {
    "papermill": {
     "duration": 0.010413,
     "end_time": "2023-02-23T20:04:35.944743",
     "exception": false,
     "start_time": "2023-02-23T20:04:35.934330",
     "status": "completed"
    },
    "tags": []
   },
   "source": [
    "# **4. Data Visualization**"
   ]
  },
  {
   "cell_type": "code",
   "execution_count": 13,
   "id": "68c4a87f",
   "metadata": {
    "execution": {
     "iopub.execute_input": "2023-02-23T20:04:35.970201Z",
     "iopub.status.busy": "2023-02-23T20:04:35.969443Z",
     "iopub.status.idle": "2023-02-23T20:04:36.971589Z",
     "shell.execute_reply": "2023-02-23T20:04:36.970461Z"
    },
    "papermill": {
     "duration": 1.017719,
     "end_time": "2023-02-23T20:04:36.974757",
     "exception": false,
     "start_time": "2023-02-23T20:04:35.957038",
     "status": "completed"
    },
    "tags": []
   },
   "outputs": [
    {
     "data": {
      "text/plain": [
       "<seaborn.axisgrid.PairGrid at 0x7f0ded46c550>"
      ]
     },
     "execution_count": 13,
     "metadata": {},
     "output_type": "execute_result"
    },
    {
     "data": {
      "image/png": "[encoded data removed]",
      "text/plain": [
       "<Figure size 750x250 with 3 Axes>"
      ]
     },
     "metadata": {},
     "output_type": "display_data"
    }
   ],
   "source": [
    " #linearity (linear relationship)\n",
    "sns.pairplot(sales,x_vars=['TV','Radio','Newspaper'],y_vars='Sales',kind='reg')"
   ]
  },
  {
   "cell_type": "code",
   "execution_count": 14,
   "id": "6518f524",
   "metadata": {
    "execution": {
     "iopub.execute_input": "2023-02-23T20:04:37.001556Z",
     "iopub.status.busy": "2023-02-23T20:04:37.000811Z",
     "iopub.status.idle": "2023-02-23T20:04:37.550826Z",
     "shell.execute_reply": "2023-02-23T20:04:37.549419Z"
    },
    "papermill": {
     "duration": 0.56678,
     "end_time": "2023-02-23T20:04:37.553516",
     "exception": false,
     "start_time": "2023-02-23T20:04:36.986736",
     "status": "completed"
    },
    "tags": []
   },
   "outputs": [
    {
     "name": "stderr",
     "output_type": "stream",
     "text": [
      "/opt/conda/lib/python3.7/site-packages/ipykernel_launcher.py:7: UserWarning: \n",
      "\n",
      "`distplot` is a deprecated function and will be removed in seaborn v0.14.0.\n",
      "\n",
      "Please adapt your code to use either `displot` (a figure-level function with\n",
      "similar flexibility) or `histplot` (an axes-level function for histograms).\n",
      "\n",
      "For a guide to updating your code to use the new functions, please see\n",
      "https://gist.github.com/mwaskom/de44147ed2974457ad6372750bbe5751\n",
      "\n",
      "  import sys\n",
      "/opt/conda/lib/python3.7/site-packages/ipykernel_launcher.py:10: UserWarning: \n",
      "\n",
      "`distplot` is a deprecated function and will be removed in seaborn v0.14.0.\n",
      "\n",
      "Please adapt your code to use either `displot` (a figure-level function with\n",
      "similar flexibility) or `histplot` (an axes-level function for histograms).\n",
      "\n",
      "For a guide to updating your code to use the new functions, please see\n",
      "https://gist.github.com/mwaskom/de44147ed2974457ad6372750bbe5751\n",
      "\n",
      "  # Remove the CWD from sys.path while we load stuff.\n",
      "/opt/conda/lib/python3.7/site-packages/ipykernel_launcher.py:13: UserWarning: \n",
      "\n",
      "`distplot` is a deprecated function and will be removed in seaborn v0.14.0.\n",
      "\n",
      "Please adapt your code to use either `displot` (a figure-level function with\n",
      "similar flexibility) or `histplot` (an axes-level function for histograms).\n",
      "\n",
      "For a guide to updating your code to use the new functions, please see\n",
      "https://gist.github.com/mwaskom/de44147ed2974457ad6372750bbe5751\n",
      "\n",
      "  del sys.path[0]\n"
     ]
    },
    {
     "data": {
      "text/plain": [
       "<AxesSubplot:xlabel='Newspaper', ylabel='Density'>"
      ]
     },
     "execution_count": 14,
     "metadata": {},
     "output_type": "execute_result"
    },
    {
     "data": {
      "image/png": "[encoded data removed]",
      "text/plain": [
       "<Figure size 1800x400 with 3 Axes>"
      ]
     },
     "metadata": {},
     "output_type": "display_data"
    }
   ],
   "source": [
    "#Normality\n",
    "####Performing univariate analyasis\n",
    "\n",
    "plt.rcParams['figure.figsize']=(18,4)\n",
    "\n",
    "plt.subplot(1,3,1)\n",
    "sns.distplot(sales['TV'],color='green')\n",
    "\n",
    "plt.subplot(1,3,2)\n",
    "sns.distplot(sales['Radio'],color='blue')\n",
    "\n",
    "plt.subplot(1,3,3)\n",
    "sns.distplot(sales['Newspaper'],color='orange')"
   ]
  },
  {
   "cell_type": "code",
   "execution_count": 15,
   "id": "2a131775",
   "metadata": {
    "execution": {
     "iopub.execute_input": "2023-02-23T20:04:37.582764Z",
     "iopub.status.busy": "2023-02-23T20:04:37.581482Z",
     "iopub.status.idle": "2023-02-23T20:04:37.847066Z",
     "shell.execute_reply": "2023-02-23T20:04:37.846321Z"
    },
    "papermill": {
     "duration": 0.28242,
     "end_time": "2023-02-23T20:04:37.849102",
     "exception": false,
     "start_time": "2023-02-23T20:04:37.566682",
     "status": "completed"
    },
    "tags": []
   },
   "outputs": [
    {
     "data": {
      "text/plain": [
       "<seaborn.axisgrid.FacetGrid at 0x7f0de52ba550>"
      ]
     },
     "execution_count": 15,
     "metadata": {},
     "output_type": "execute_result"
    },
    {
     "data": {
      "image/png": "[encoded data removed]",
      "text/plain": [
       "<Figure size 500x500 with 1 Axes>"
      ]
     },
     "metadata": {},
     "output_type": "display_data"
    }
   ],
   "source": [
    "#Normality (outcome variable(y) to be normally distributed)\n",
    "sns.displot(sales.Sales,bins=10,color='red',kde=True)"
   ]
  },
  {
   "cell_type": "code",
   "execution_count": 16,
   "id": "7a878c2b",
   "metadata": {
    "execution": {
     "iopub.execute_input": "2023-02-23T20:04:37.877095Z",
     "iopub.status.busy": "2023-02-23T20:04:37.876148Z",
     "iopub.status.idle": "2023-02-23T20:04:38.106909Z",
     "shell.execute_reply": "2023-02-23T20:04:38.105881Z"
    },
    "papermill": {
     "duration": 0.247197,
     "end_time": "2023-02-23T20:04:38.109145",
     "exception": false,
     "start_time": "2023-02-23T20:04:37.861948",
     "status": "completed"
    },
    "tags": []
   },
   "outputs": [
    {
     "data": {
      "image/png": "[encoded data removed]",
      "text/plain": [
       "<Figure size 1800x400 with 2 Axes>"
      ]
     },
     "metadata": {},
     "output_type": "display_data"
    }
   ],
   "source": [
    "#Mutlicolinearity\n",
    "###Performing Multivariate Analyasis\n",
    "\n",
    "sns.heatmap(sales.corr(),annot=True,linewidth=1,cmap='Accent')\n",
    "plt.title('Correlation Heatmap',fontsize=13)\n",
    "plt.show()"
   ]
  },
  {
   "cell_type": "markdown",
   "id": "ed6ff996",
   "metadata": {
    "papermill": {
     "duration": 0.013957,
     "end_time": "2023-02-23T20:04:38.136861",
     "exception": false,
     "start_time": "2023-02-23T20:04:38.122904",
     "status": "completed"
    },
    "tags": []
   },
   "source": [
    "As we can see the 3 variables not correlated with each other"
   ]
  },
  {
   "cell_type": "code",
   "execution_count": 17,
   "id": "649802a9",
   "metadata": {
    "execution": {
     "iopub.execute_input": "2023-02-23T20:04:38.168141Z",
     "iopub.status.busy": "2023-02-23T20:04:38.167398Z",
     "iopub.status.idle": "2023-02-23T20:04:38.334264Z",
     "shell.execute_reply": "2023-02-23T20:04:38.333327Z"
    },
    "papermill": {
     "duration": 0.185561,
     "end_time": "2023-02-23T20:04:38.336352",
     "exception": false,
     "start_time": "2023-02-23T20:04:38.150791",
     "status": "completed"
    },
    "tags": []
   },
   "outputs": [
    {
     "data": {
      "text/html": [
       "<div>\n",
       "<style scoped>\n",
       "    .dataframe tbody tr th:only-of-type {\n",
       "        vertical-align: middle;\n",
       "    }\n",
       "\n",
       "    .dataframe tbody tr th {\n",
       "        vertical-align: top;\n",
       "    }\n",
       "\n",
       "    .dataframe thead th {\n",
       "        text-align: right;\n",
       "    }\n",
       "</style>\n",
       "<table border=\"1\" class=\"dataframe\">\n",
       "  <thead>\n",
       "    <tr style=\"text-align: right;\">\n",
       "      <th></th>\n",
       "      <th>VIF</th>\n",
       "      <th>feature</th>\n",
       "    </tr>\n",
       "  </thead>\n",
       "  <tbody>\n",
       "    <tr>\n",
       "      <th>0</th>\n",
       "      <td>22.844235</td>\n",
       "      <td>TV</td>\n",
       "    </tr>\n",
       "    <tr>\n",
       "      <th>1</th>\n",
       "      <td>12.100093</td>\n",
       "      <td>Radio</td>\n",
       "    </tr>\n",
       "    <tr>\n",
       "      <th>2</th>\n",
       "      <td>3.099149</td>\n",
       "      <td>Newspaper</td>\n",
       "    </tr>\n",
       "    <tr>\n",
       "      <th>3</th>\n",
       "      <td>53.957740</td>\n",
       "      <td>Sales</td>\n",
       "    </tr>\n",
       "  </tbody>\n",
       "</table>\n",
       "</div>"
      ],
      "text/plain": [
       "         VIF    feature\n",
       "0  22.844235         TV\n",
       "1  12.100093      Radio\n",
       "2   3.099149  Newspaper\n",
       "3  53.957740      Sales"
      ]
     },
     "execution_count": 17,
     "metadata": {},
     "output_type": "execute_result"
    }
   ],
   "source": [
    "from statsmodels.stats.outliers_influence import variance_inflation_factor\n",
    "r = sales[[\"TV\", \"Radio\",\"Newspaper\",\"Sales\"]].values\n",
    "vif_df = pd.DataFrame()\n",
    "vif_df[\"VIF\"] = [variance_inflation_factor(r, i) for i in range(4)]\n",
    "vif_df[\"feature\"] = [\"TV\", \"Radio\",\"Newspaper\",\"Sales\"]\n",
    "vif_df"
   ]
  },
  {
   "cell_type": "markdown",
   "id": "4dd49f24",
   "metadata": {
    "papermill": {
     "duration": 0.014523,
     "end_time": "2023-02-23T20:04:38.364543",
     "exception": false,
     "start_time": "2023-02-23T20:04:38.350020",
     "status": "completed"
    },
    "tags": []
   },
   "source": [
    "# **5. Modelling our dataset**"
   ]
  },
  {
   "cell_type": "markdown",
   "id": "69fc74cf",
   "metadata": {
    "papermill": {
     "duration": 0.013513,
     "end_time": "2023-02-23T20:04:38.394465",
     "exception": false,
     "start_time": "2023-02-23T20:04:38.380952",
     "status": "completed"
    },
    "tags": []
   },
   "source": [
    "#    **a) By linear regression**"
   ]
  },
  {
   "cell_type": "code",
   "execution_count": 18,
   "id": "4558df6f",
   "metadata": {
    "execution": {
     "iopub.execute_input": "2023-02-23T20:04:38.425897Z",
     "iopub.status.busy": "2023-02-23T20:04:38.425214Z",
     "iopub.status.idle": "2023-02-23T20:04:38.435853Z",
     "shell.execute_reply": "2023-02-23T20:04:38.433202Z"
    },
    "papermill": {
     "duration": 0.030453,
     "end_time": "2023-02-23T20:04:38.438912",
     "exception": false,
     "start_time": "2023-02-23T20:04:38.408459",
     "status": "completed"
    },
    "tags": []
   },
   "outputs": [
    {
     "name": "stdout",
     "output_type": "stream",
     "text": [
      "(200,)\n",
      "Index(['TV', 'Radio', 'Newspaper'], dtype='object')\n"
     ]
    }
   ],
   "source": [
    "#Implementing Linear regression as target column here 'sales' is continous \n",
    "\n",
    "y=sales['Sales']\n",
    "x=sales.drop(['Sales'],axis=1)\n",
    "print(y.shape)\n",
    "print(x.columns)"
   ]
  },
  {
   "cell_type": "code",
   "execution_count": 19,
   "id": "b614363f",
   "metadata": {
    "execution": {
     "iopub.execute_input": "2023-02-23T20:04:38.470848Z",
     "iopub.status.busy": "2023-02-23T20:04:38.469337Z",
     "iopub.status.idle": "2023-02-23T20:04:38.481268Z",
     "shell.execute_reply": "2023-02-23T20:04:38.479595Z"
    },
    "papermill": {
     "duration": 0.029991,
     "end_time": "2023-02-23T20:04:38.484220",
     "exception": false,
     "start_time": "2023-02-23T20:04:38.454229",
     "status": "completed"
    },
    "tags": []
   },
   "outputs": [
    {
     "name": "stdout",
     "output_type": "stream",
     "text": [
      "(160, 3)\n",
      "(40, 3)\n",
      "(160,)\n",
      "(40,)\n"
     ]
    }
   ],
   "source": [
    "from sklearn.model_selection import train_test_split\n",
    "x_train,x_test,y_train,y_test=train_test_split(x,y,test_size=.2,random_state=0)\n",
    "print(x_train.shape)\n",
    "print(x_test.shape)\n",
    "print(y_train.shape)\n",
    "print(y_test.shape)"
   ]
  },
  {
   "cell_type": "code",
   "execution_count": 20,
   "id": "f3cd73bf",
   "metadata": {
    "execution": {
     "iopub.execute_input": "2023-02-23T20:04:38.514261Z",
     "iopub.status.busy": "2023-02-23T20:04:38.513685Z",
     "iopub.status.idle": "2023-02-23T20:04:38.522988Z",
     "shell.execute_reply": "2023-02-23T20:04:38.521639Z"
    },
    "papermill": {
     "duration": 0.027531,
     "end_time": "2023-02-23T20:04:38.525480",
     "exception": false,
     "start_time": "2023-02-23T20:04:38.497949",
     "status": "completed"
    },
    "tags": []
   },
   "outputs": [],
   "source": [
    "###Feature scaling (or Normalization)\n",
    "\n",
    "from sklearn.preprocessing import StandardScaler\n",
    "sc=StandardScaler()\n",
    "x_train=sc.fit_transform(x_train)\n",
    "x_test=sc.transform(x_test)"
   ]
  },
  {
   "cell_type": "code",
   "execution_count": 21,
   "id": "35f7e078",
   "metadata": {
    "execution": {
     "iopub.execute_input": "2023-02-23T20:04:38.554050Z",
     "iopub.status.busy": "2023-02-23T20:04:38.553569Z",
     "iopub.status.idle": "2023-02-23T20:04:38.561101Z",
     "shell.execute_reply": "2023-02-23T20:04:38.559712Z"
    },
    "papermill": {
     "duration": 0.025162,
     "end_time": "2023-02-23T20:04:38.563652",
     "exception": false,
     "start_time": "2023-02-23T20:04:38.538490",
     "status": "completed"
    },
    "tags": []
   },
   "outputs": [],
   "source": [
    "###Linear regression\n",
    "from sklearn.linear_model import LinearRegression\n",
    "model1=LinearRegression()\n",
    "model1.fit(x_train,y_train)\n",
    "y_pred1=model1.predict(x_test)"
   ]
  },
  {
   "cell_type": "code",
   "execution_count": 22,
   "id": "172a68f3",
   "metadata": {
    "execution": {
     "iopub.execute_input": "2023-02-23T20:04:38.592073Z",
     "iopub.status.busy": "2023-02-23T20:04:38.591373Z",
     "iopub.status.idle": "2023-02-23T20:04:38.601035Z",
     "shell.execute_reply": "2023-02-23T20:04:38.598806Z"
    },
    "papermill": {
     "duration": 0.028471,
     "end_time": "2023-02-23T20:04:38.605444",
     "exception": false,
     "start_time": "2023-02-23T20:04:38.576973",
     "status": "completed"
    },
    "tags": []
   },
   "outputs": [
    {
     "name": "stdout",
     "output_type": "stream",
     "text": [
      "2.081184235234504\n",
      "0.8623640171272926\n"
     ]
    }
   ],
   "source": [
    "#Lets check RMSE &Mean Squared Error\n",
    "from sklearn.metrics import r2_score,mean_squared_error\n",
    "mse=mean_squared_error(y_test,y_pred1)\n",
    "rmse=np.sqrt(mse)\n",
    "print(rmse)\n",
    "r2_score=r2_score(y_test,y_pred1)\n",
    "print(r2_score)"
   ]
  },
  {
   "cell_type": "code",
   "execution_count": 23,
   "id": "45a961e5",
   "metadata": {
    "execution": {
     "iopub.execute_input": "2023-02-23T20:04:38.635166Z",
     "iopub.status.busy": "2023-02-23T20:04:38.633565Z",
     "iopub.status.idle": "2023-02-23T20:04:38.662260Z",
     "shell.execute_reply": "2023-02-23T20:04:38.660957Z"
    },
    "papermill": {
     "duration": 0.045894,
     "end_time": "2023-02-23T20:04:38.664828",
     "exception": false,
     "start_time": "2023-02-23T20:04:38.618934",
     "status": "completed"
    },
    "tags": []
   },
   "outputs": [
    {
     "name": "stdout",
     "output_type": "stream",
     "text": [
      "[0.8786188  0.91667558 0.92887828 0.81613793 0.89586916]\n"
     ]
    }
   ],
   "source": [
    "##Performing Cross_validation\n",
    "from sklearn.model_selection import cross_val_score\n",
    "score=cross_val_score(model1,x,y,cv=5)\n",
    "print(score)"
   ]
  },
  {
   "cell_type": "code",
   "execution_count": 24,
   "id": "79c4d6b3",
   "metadata": {
    "execution": {
     "iopub.execute_input": "2023-02-23T20:04:38.694916Z",
     "iopub.status.busy": "2023-02-23T20:04:38.693679Z",
     "iopub.status.idle": "2023-02-23T20:04:38.782170Z",
     "shell.execute_reply": "2023-02-23T20:04:38.781295Z"
    },
    "papermill": {
     "duration": 0.105834,
     "end_time": "2023-02-23T20:04:38.784487",
     "exception": false,
     "start_time": "2023-02-23T20:04:38.678653",
     "status": "completed"
    },
    "tags": []
   },
   "outputs": [
    {
     "data": {
      "image/png": "[encoded data removed]",
      "text/plain": [
       "<Figure size 300x400 with 1 Axes>"
      ]
     },
     "metadata": {},
     "output_type": "display_data"
    }
   ],
   "source": [
    "####Comparison of models\n",
    "r2_score=np.array([.79])\n",
    "labels=np.array(['Linear Regression'])\n",
    "index=np.argsort(r2_score)\n",
    "color=plt.cm.rainbow(np.linspace(0,1,4))\n",
    "\n",
    "plt.style.use('fivethirtyeight')\n",
    "plt.rcParams['figure.figsize']=(3,4)\n",
    "\n",
    "plt.bar(range(len(index)),r2_score[index])\n",
    "plt.xticks(range(0,1),['Linear Regression'],rotation=90)\n",
    "plt.show()"
   ]
  },
  {
   "cell_type": "markdown",
   "id": "86bb97f1",
   "metadata": {
    "papermill": {
     "duration": 0.02014,
     "end_time": "2023-02-23T20:04:38.823207",
     "exception": false,
     "start_time": "2023-02-23T20:04:38.803067",
     "status": "completed"
    },
    "tags": []
   },
   "source": [
    "# **b) By multi linear regression**"
   ]
  },
  {
   "cell_type": "code",
   "execution_count": 25,
   "id": "31c5d99f",
   "metadata": {
    "execution": {
     "iopub.execute_input": "2023-02-23T20:04:38.857388Z",
     "iopub.status.busy": "2023-02-23T20:04:38.856932Z",
     "iopub.status.idle": "2023-02-23T20:04:38.865740Z",
     "shell.execute_reply": "2023-02-23T20:04:38.864357Z"
    },
    "papermill": {
     "duration": 0.027059,
     "end_time": "2023-02-23T20:04:38.868511",
     "exception": false,
     "start_time": "2023-02-23T20:04:38.841452",
     "status": "completed"
    },
    "tags": []
   },
   "outputs": [],
   "source": [
    "###splitting data\n",
    "features = [\"TV\", \"Radio\", \"Newspaper\"]\n",
    "X = sales[features]\n",
    "target = \"Sales\"\n",
    "y = sales[target]\n",
    "\n",
    "X_train, X_test, y_train, y_test = train_test_split(X, y, test_size=0.2, random_state=42)"
   ]
  },
  {
   "cell_type": "code",
   "execution_count": 26,
   "id": "9ba940b9",
   "metadata": {
    "execution": {
     "iopub.execute_input": "2023-02-23T20:04:38.898787Z",
     "iopub.status.busy": "2023-02-23T20:04:38.898048Z",
     "iopub.status.idle": "2023-02-23T20:04:38.904004Z",
     "shell.execute_reply": "2023-02-23T20:04:38.903257Z"
    },
    "papermill": {
     "duration": 0.02394,
     "end_time": "2023-02-23T20:04:38.906333",
     "exception": false,
     "start_time": "2023-02-23T20:04:38.882393",
     "status": "completed"
    },
    "tags": []
   },
   "outputs": [
    {
     "name": "stdout",
     "output_type": "stream",
     "text": [
      "Mean Error:  14.1\n",
      "Baseline Error:  [14.1, 14.1, 14.1, 14.1, 14.1]\n"
     ]
    }
   ],
   "source": [
    "###build model\n",
    "y_mean = y_train.mean()\n",
    "print(\"Mean Error: \", y_mean)\n",
    "y_pred_baseline = [y_mean] * len(y_train)\n",
    "print(\"Baseline Error: \", y_pred_baseline[:5])"
   ]
  },
  {
   "cell_type": "code",
   "execution_count": 27,
   "id": "64ff2739",
   "metadata": {
    "execution": {
     "iopub.execute_input": "2023-02-23T20:04:38.938952Z",
     "iopub.status.busy": "2023-02-23T20:04:38.938190Z",
     "iopub.status.idle": "2023-02-23T20:04:38.949837Z",
     "shell.execute_reply": "2023-02-23T20:04:38.948735Z"
    },
    "papermill": {
     "duration": 0.029783,
     "end_time": "2023-02-23T20:04:38.952163",
     "exception": false,
     "start_time": "2023-02-23T20:04:38.922380",
     "status": "completed"
    },
    "tags": []
   },
   "outputs": [
    {
     "data": {
      "text/plain": [
       "LinearRegression()"
      ]
     },
     "execution_count": 27,
     "metadata": {},
     "output_type": "execute_result"
    }
   ],
   "source": [
    "#Model Instantiation\n",
    "##multiple linear regression\n",
    "\n",
    "model = LinearRegression().fit(X_train, y_train)\n",
    "model"
   ]
  },
  {
   "cell_type": "code",
   "execution_count": 28,
   "id": "9a9950f9",
   "metadata": {
    "execution": {
     "iopub.execute_input": "2023-02-23T20:04:38.981665Z",
     "iopub.status.busy": "2023-02-23T20:04:38.981211Z",
     "iopub.status.idle": "2023-02-23T20:04:38.988713Z",
     "shell.execute_reply": "2023-02-23T20:04:38.987466Z"
    },
    "papermill": {
     "duration": 0.024858,
     "end_time": "2023-02-23T20:04:38.990790",
     "exception": false,
     "start_time": "2023-02-23T20:04:38.965932",
     "status": "completed"
    },
    "tags": []
   },
   "outputs": [
    {
     "name": "stdout",
     "output_type": "stream",
     "text": [
      "Predicted values after model:  [ 9.66090629 12.71390675 10.03913523  8.18094645 13.51401216]\n"
     ]
    }
   ],
   "source": [
    "#Predicitions on Training Data\n",
    "y_pred_training = model.predict(X_train)\n",
    "print(\"Predicted values after model: \", y_pred_training[:5])"
   ]
  },
  {
   "cell_type": "code",
   "execution_count": 29,
   "id": "b45951e8",
   "metadata": {
    "execution": {
     "iopub.execute_input": "2023-02-23T20:04:39.021459Z",
     "iopub.status.busy": "2023-02-23T20:04:39.020632Z",
     "iopub.status.idle": "2023-02-23T20:04:39.029736Z",
     "shell.execute_reply": "2023-02-23T20:04:39.027685Z"
    },
    "papermill": {
     "duration": 0.02821,
     "end_time": "2023-02-23T20:04:39.032681",
     "exception": false,
     "start_time": "2023-02-23T20:04:39.004471",
     "status": "completed"
    },
    "tags": []
   },
   "outputs": [
    {
     "name": "stdout",
     "output_type": "stream",
     "text": [
      "Predicted values after model:  [16.40149547 20.86584595 21.5692108  10.53639523 22.21229875]\n"
     ]
    }
   ],
   "source": [
    "#Predictions on Test Data\n",
    "y_pred_test = model.predict(X_test)\n",
    "print(\"Predicted values after model: \", y_pred_test[:5])"
   ]
  },
  {
   "cell_type": "code",
   "execution_count": 30,
   "id": "c477517f",
   "metadata": {
    "execution": {
     "iopub.execute_input": "2023-02-23T20:04:39.064394Z",
     "iopub.status.busy": "2023-02-23T20:04:39.063907Z",
     "iopub.status.idle": "2023-02-23T20:04:39.077760Z",
     "shell.execute_reply": "2023-02-23T20:04:39.076210Z"
    },
    "papermill": {
     "duration": 0.033575,
     "end_time": "2023-02-23T20:04:39.081438",
     "exception": false,
     "start_time": "2023-02-23T20:04:39.047863",
     "status": "completed"
    },
    "tags": []
   },
   "outputs": [
    {
     "data": {
      "text/html": [
       "<div>\n",
       "<style scoped>\n",
       "    .dataframe tbody tr th:only-of-type {\n",
       "        vertical-align: middle;\n",
       "    }\n",
       "\n",
       "    .dataframe tbody tr th {\n",
       "        vertical-align: top;\n",
       "    }\n",
       "\n",
       "    .dataframe thead th {\n",
       "        text-align: right;\n",
       "    }\n",
       "</style>\n",
       "<table border=\"1\" class=\"dataframe\">\n",
       "  <thead>\n",
       "    <tr style=\"text-align: right;\">\n",
       "      <th></th>\n",
       "      <th>y_test</th>\n",
       "      <th>pred</th>\n",
       "    </tr>\n",
       "  </thead>\n",
       "  <tbody>\n",
       "    <tr>\n",
       "      <th>0</th>\n",
       "      <td>16.9</td>\n",
       "      <td>16.401495</td>\n",
       "    </tr>\n",
       "    <tr>\n",
       "      <th>1</th>\n",
       "      <td>22.4</td>\n",
       "      <td>20.865846</td>\n",
       "    </tr>\n",
       "    <tr>\n",
       "      <th>2</th>\n",
       "      <td>21.4</td>\n",
       "      <td>21.569211</td>\n",
       "    </tr>\n",
       "    <tr>\n",
       "      <th>3</th>\n",
       "      <td>7.3</td>\n",
       "      <td>10.536395</td>\n",
       "    </tr>\n",
       "    <tr>\n",
       "      <th>4</th>\n",
       "      <td>24.7</td>\n",
       "      <td>22.212299</td>\n",
       "    </tr>\n",
       "  </tbody>\n",
       "</table>\n",
       "</div>"
      ],
      "text/plain": [
       "   y_test       pred\n",
       "0    16.9  16.401495\n",
       "1    22.4  20.865846\n",
       "2    21.4  21.569211\n",
       "3     7.3  10.536395\n",
       "4    24.7  22.212299"
      ]
     },
     "execution_count": 30,
     "metadata": {},
     "output_type": "execute_result"
    }
   ],
   "source": [
    "# compare actual sales to predicted sales\n",
    "compare= pd.DataFrame({\"y_test\":list(y_test), \"pred\":list(y_pred_test)})\n",
    "compare.head()"
   ]
  },
  {
   "cell_type": "code",
   "execution_count": 31,
   "id": "5d3471e3",
   "metadata": {
    "execution": {
     "iopub.execute_input": "2023-02-23T20:04:39.114050Z",
     "iopub.status.busy": "2023-02-23T20:04:39.113606Z",
     "iopub.status.idle": "2023-02-23T20:04:39.303078Z",
     "shell.execute_reply": "2023-02-23T20:04:39.301359Z"
    },
    "papermill": {
     "duration": 0.208612,
     "end_time": "2023-02-23T20:04:39.305983",
     "exception": false,
     "start_time": "2023-02-23T20:04:39.097371",
     "status": "completed"
    },
    "tags": []
   },
   "outputs": [
    {
     "data": {
      "text/plain": [
       "<matplotlib.collections.PathCollection at 0x7f0ddf3ecb90>"
      ]
     },
     "execution_count": 31,
     "metadata": {},
     "output_type": "execute_result"
    },
    {
     "data": {
      "image/png": "[encoded data removed]",
      "text/plain": [
       "<Figure size 300x400 with 1 Axes>"
      ]
     },
     "metadata": {},
     "output_type": "display_data"
    }
   ],
   "source": [
    "# plot of the comparison\n",
    "plt.scatter(y_test, y_pred_test)"
   ]
  },
  {
   "cell_type": "markdown",
   "id": "3f84e5a7",
   "metadata": {
    "papermill": {
     "duration": 0.014343,
     "end_time": "2023-02-23T20:04:39.334977",
     "exception": false,
     "start_time": "2023-02-23T20:04:39.320634",
     "status": "completed"
    },
    "tags": []
   },
   "source": [
    "* **Model evaluation**"
   ]
  },
  {
   "cell_type": "code",
   "execution_count": 32,
   "id": "bf8076da",
   "metadata": {
    "execution": {
     "iopub.execute_input": "2023-02-23T20:04:39.371543Z",
     "iopub.status.busy": "2023-02-23T20:04:39.370966Z",
     "iopub.status.idle": "2023-02-23T20:04:39.382588Z",
     "shell.execute_reply": "2023-02-23T20:04:39.381077Z"
    },
    "papermill": {
     "duration": 0.035221,
     "end_time": "2023-02-23T20:04:39.385351",
     "exception": false,
     "start_time": "2023-02-23T20:04:39.350130",
     "status": "completed"
    },
    "tags": []
   },
   "outputs": [
    {
     "name": "stdout",
     "output_type": "stream",
     "text": [
      "Mean Absolute error:1.4572125083125194\n",
      "Mean Squared error: 1.777702870555113\n",
      "R2 Score:0.8998774499187093\n"
     ]
    }
   ],
   "source": [
    "#model evaluation\n",
    "from sklearn import metrics\n",
    "\n",
    "MAE = metrics.mean_absolute_error(y_test, y_pred_test)\n",
    "print(\"Mean Absolute error:{}\".format(MAE))\n",
    "\n",
    "MSE = metrics.mean_squared_error(y_test, y_pred_test)\n",
    "print('Mean Squared error: {}'.format(np.sqrt(MSE)))\n",
    "\n",
    "R2 = metrics.r2_score(y_test, y_pred_test)\n",
    "print(\"R2 Score:{}\".format(R2))"
   ]
  },
  {
   "cell_type": "code",
   "execution_count": 33,
   "id": "0216e0de",
   "metadata": {
    "execution": {
     "iopub.execute_input": "2023-02-23T20:04:39.426018Z",
     "iopub.status.busy": "2023-02-23T20:04:39.425531Z",
     "iopub.status.idle": "2023-02-23T20:04:39.438401Z",
     "shell.execute_reply": "2023-02-23T20:04:39.436143Z"
    },
    "papermill": {
     "duration": 0.039126,
     "end_time": "2023-02-23T20:04:39.441782",
     "exception": false,
     "start_time": "2023-02-23T20:04:39.402656",
     "status": "completed"
    },
    "tags": []
   },
   "outputs": [
    {
     "name": "stdout",
     "output_type": "stream",
     "text": [
      "Score of training data:  0.8958638048835743\n",
      "Score of test data:  0.8958638048835743\n"
     ]
    }
   ],
   "source": [
    "#Model Evaluation\n",
    "print(\"Score of training data: \", model.score(X_train, y_train))\n",
    "print(\"Score of test data: \", model.score(X_train, y_train))"
   ]
  },
  {
   "cell_type": "markdown",
   "id": "45d68513",
   "metadata": {
    "papermill": {
     "duration": 0.014431,
     "end_time": "2023-02-23T20:04:39.471321",
     "exception": false,
     "start_time": "2023-02-23T20:04:39.456890",
     "status": "completed"
    },
    "tags": []
   },
   "source": [
    "**Therefore, Sales prediction model is ready!!**"
   ]
  }
 ],
 "metadata": {
  "kernelspec": {
   "display_name": "Python 3",
   "language": "python",
   "name": "python3"
  },
  "language_info": {
   "codemirror_mode": {
    "name": "ipython",
    "version": 3
   },
   "file_extension": ".py",
   "mimetype": "text/x-python",
   "name": "python",
   "nbconvert_exporter": "python",
   "pygments_lexer": "ipython3",
   "version": "3.7.12"
  },
  "papermill": {
   "default_parameters": {},
   "duration": 17.48102,
   "end_time": "2023-02-23T20:04:40.511117",
   "environment_variables": {},
   "exception": null,
   "input_path": "__notebook__.ipynb",
   "output_path": "__notebook__.ipynb",
   "parameters": {},
   "start_time": "2023-02-23T20:04:23.030097",
   "version": "2.3.4"
  }
 },
 "nbformat": 4,
 "nbformat_minor": 5
}
